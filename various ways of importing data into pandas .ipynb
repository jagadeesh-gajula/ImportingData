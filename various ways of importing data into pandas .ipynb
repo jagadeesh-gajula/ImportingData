{
 "cells": [
  {
   "cell_type": "markdown",
   "metadata": {},
   "source": [
    "## Various ways of importing data into python with pandas."
   ]
  },
  {
   "cell_type": "markdown",
   "metadata": {},
   "source": [
    "### Delimited files ( csv ,tsv)"
   ]
  },
  {
   "cell_type": "code",
   "execution_count": 1,
   "metadata": {
    "collapsed": true
   },
   "outputs": [
    {
     "data": {
      "text/html": [
       "<div>\n",
       "<table border=\"1\" class=\"dataframe\">\n",
       "  <thead>\n",
       "    <tr style=\"text-align: right;\">\n",
       "      <th></th>\n",
       "      <th>age</th>\n",
       "      <th>sex</th>\n",
       "      <th>bmi</th>\n",
       "      <th>children</th>\n",
       "      <th>smoker</th>\n",
       "      <th>region</th>\n",
       "      <th>charges</th>\n",
       "    </tr>\n",
       "  </thead>\n",
       "  <tbody>\n",
       "    <tr>\n",
       "      <th>0</th>\n",
       "      <td>19</td>\n",
       "      <td>female</td>\n",
       "      <td>27.900</td>\n",
       "      <td>0</td>\n",
       "      <td>yes</td>\n",
       "      <td>southwest</td>\n",
       "      <td>16884.92400</td>\n",
       "    </tr>\n",
       "    <tr>\n",
       "      <th>1</th>\n",
       "      <td>18</td>\n",
       "      <td>male</td>\n",
       "      <td>33.770</td>\n",
       "      <td>1</td>\n",
       "      <td>no</td>\n",
       "      <td>southeast</td>\n",
       "      <td>1725.55230</td>\n",
       "    </tr>\n",
       "    <tr>\n",
       "      <th>2</th>\n",
       "      <td>28</td>\n",
       "      <td>male</td>\n",
       "      <td>33.000</td>\n",
       "      <td>3</td>\n",
       "      <td>no</td>\n",
       "      <td>southeast</td>\n",
       "      <td>4449.46200</td>\n",
       "    </tr>\n",
       "    <tr>\n",
       "      <th>3</th>\n",
       "      <td>33</td>\n",
       "      <td>male</td>\n",
       "      <td>22.705</td>\n",
       "      <td>0</td>\n",
       "      <td>no</td>\n",
       "      <td>northwest</td>\n",
       "      <td>21984.47061</td>\n",
       "    </tr>\n",
       "    <tr>\n",
       "      <th>4</th>\n",
       "      <td>32</td>\n",
       "      <td>male</td>\n",
       "      <td>28.880</td>\n",
       "      <td>0</td>\n",
       "      <td>no</td>\n",
       "      <td>northwest</td>\n",
       "      <td>3866.85520</td>\n",
       "    </tr>\n",
       "  </tbody>\n",
       "</table>\n",
       "</div>"
      ],
      "text/plain": [
       "   age     sex     bmi  children smoker     region      charges\n",
       "0   19  female  27.900         0    yes  southwest  16884.92400\n",
       "1   18    male  33.770         1     no  southeast   1725.55230\n",
       "2   28    male  33.000         3     no  southeast   4449.46200\n",
       "3   33    male  22.705         0     no  northwest  21984.47061\n",
       "4   32    male  28.880         0     no  northwest   3866.85520"
      ]
     },
     "execution_count": 1,
     "metadata": {},
     "output_type": "execute_result"
    }
   ],
   "source": [
    "# importing all the packages at first, for now we only need pandas package\n",
    "import pandas as pd\n",
    "\n",
    "# just like that ( you can pass delimiter argument if its tsv)\n",
    "data=pd.read_csv('insurance.csv')\n",
    "data.head()"
   ]
  },
  {
   "cell_type": "markdown",
   "metadata": {},
   "source": [
    "### from relational databases (SQL)"
   ]
  },
  {
   "cell_type": "code",
   "execution_count": 6,
   "metadata": {
    "collapsed": true
   },
   "outputs": [
    {
     "data": {
      "text/html": [
       "<div>\n",
       "<table border=\"1\" class=\"dataframe\">\n",
       "  <thead>\n",
       "    <tr style=\"text-align: right;\">\n",
       "      <th></th>\n",
       "      <th>id</th>\n",
       "      <th>name</th>\n",
       "      <th>location</th>\n",
       "      <th>password</th>\n",
       "    </tr>\n",
       "  </thead>\n",
       "  <tbody>\n",
       "    <tr>\n",
       "      <th>0</th>\n",
       "      <td>123</td>\n",
       "      <td>jaga</td>\n",
       "      <td>jal</td>\n",
       "      <td>thisispass</td>\n",
       "    </tr>\n",
       "  </tbody>\n",
       "</table>\n",
       "</div>"
      ],
      "text/plain": [
       "    id  name location    password\n",
       "0  123  jaga      jal  thisispass"
      ]
     },
     "execution_count": 6,
     "metadata": {},
     "output_type": "execute_result"
    }
   ],
   "source": [
    "import pymysql as sql\n",
    "\n",
    "#connecting to database on machine it could be from remote machine too\n",
    "conn=sql.connect(host='localhost',user='root',password='',db=\"capstone\")\n",
    "\n",
    "# this step is necessary before querying database\n",
    "c=conn.cursor()\n",
    "# execute the command \n",
    "c.execute('select * from lab_profile;')\n",
    "# fetching into rows its spits list\n",
    "all_rows=c.fetchall()\n",
    "\n",
    "#creating a dataframe with it\n",
    "df=pd.DataFrame(list(all_rows),columns=[\"id\",\"name\",\"location\",\"password\"])\n",
    "df.head()"
   ]
  },
  {
   "cell_type": "markdown",
   "metadata": {},
   "source": [
    "### scraping data from websites "
   ]
  },
  {
   "cell_type": "code",
   "execution_count": 41,
   "metadata": {
    "collapsed": true
   },
   "outputs": [
    {
     "data": {
      "text/html": [
       "<div>\n",
       "<table border=\"1\" class=\"dataframe\">\n",
       "  <thead>\n",
       "    <tr style=\"text-align: right;\">\n",
       "      <th></th>\n",
       "      <th>links</th>\n",
       "    </tr>\n",
       "  </thead>\n",
       "  <tbody>\n",
       "    <tr>\n",
       "      <th>0</th>\n",
       "      <td>&lt;a id=\"nav-top\"&gt;&lt;/a&gt;</td>\n",
       "    </tr>\n",
       "    <tr>\n",
       "      <th>1</th>\n",
       "      <td>&lt;a class=\"skip-link\" id=\"skiplink\" tabindex=\"3...</td>\n",
       "    </tr>\n",
       "    <tr>\n",
       "      <th>2</th>\n",
       "      <td>&lt;a aria-label=\"Amazon\" class=\"nav-logo-link\" h...</td>\n",
       "    </tr>\n",
       "    <tr>\n",
       "      <th>3</th>\n",
       "      <td>&lt;a aria-label=\"\" class=\"nav-sprite nav-logo-ta...</td>\n",
       "    </tr>\n",
       "    <tr>\n",
       "      <th>4</th>\n",
       "      <td>&lt;a class=\"nav-a nav-a-2 icp-link-style-2\" href...</td>\n",
       "    </tr>\n",
       "  </tbody>\n",
       "</table>\n",
       "</div>"
      ],
      "text/plain": [
       "                                               links\n",
       "0                               <a id=\"nav-top\"></a>\n",
       "1  <a class=\"skip-link\" id=\"skiplink\" tabindex=\"3...\n",
       "2  <a aria-label=\"Amazon\" class=\"nav-logo-link\" h...\n",
       "3  <a aria-label=\"\" class=\"nav-sprite nav-logo-ta...\n",
       "4  <a class=\"nav-a nav-a-2 icp-link-style-2\" href..."
      ]
     },
     "execution_count": 41,
     "metadata": {},
     "output_type": "execute_result"
    }
   ],
   "source": [
    "import requests,bs4\n",
    "\n",
    "# sometimes we need customization before collecting data from website \n",
    "url='https://www.amazon.in/Samsung-Galaxy-Storage-Additional-Exchange/dp/B07KXBMYCW/ref=br_msw_pdt-3?_encoding=UTF8&smid=A14CZOWI0VEHLG&pf_rd_m=A1VBAL9TL5WCBF&pf_rd_s=&pf_rd_r=1KZ2D3KPDEM30DF6XTCB&pf_rd_t=36701&pf_rd_p=cc9b62a5-2189-486a-89b4-4eda80243fbe&pf_rd_i=desktop'\n",
    "soup = bs4.BeautifulSoup(requests.get(url).text,\"lxml\")\n",
    "\n",
    "div=soup.select(\"a\") # this step will take time and here we customize depending upon webssite\n",
    "\n",
    "data=pd.DataFrame(div,columns=['links'])\n",
    "data.head()"
   ]
  },
  {
   "cell_type": "markdown",
   "metadata": {},
   "source": [
    "### Getting from API"
   ]
  },
  {
   "cell_type": "code",
   "execution_count": 49,
   "metadata": {
    "collapsed": true
   },
   "outputs": [
    {
     "data": {
      "text/html": [
       "<div>\n",
       "<table border=\"1\" class=\"dataframe\">\n",
       "  <thead>\n",
       "    <tr style=\"text-align: right;\">\n",
       "      <th></th>\n",
       "      <th>latt_long</th>\n",
       "      <th>location_type</th>\n",
       "      <th>title</th>\n",
       "      <th>woeid</th>\n",
       "    </tr>\n",
       "  </thead>\n",
       "  <tbody>\n",
       "    <tr>\n",
       "      <th>0</th>\n",
       "      <td>37.777119, -122.41964</td>\n",
       "      <td>City</td>\n",
       "      <td>San Francisco</td>\n",
       "      <td>2487956</td>\n",
       "    </tr>\n",
       "    <tr>\n",
       "      <th>1</th>\n",
       "      <td>32.715691,-117.161720</td>\n",
       "      <td>City</td>\n",
       "      <td>San Diego</td>\n",
       "      <td>2487889</td>\n",
       "    </tr>\n",
       "    <tr>\n",
       "      <th>2</th>\n",
       "      <td>37.338581,-121.885567</td>\n",
       "      <td>City</td>\n",
       "      <td>San Jose</td>\n",
       "      <td>2488042</td>\n",
       "    </tr>\n",
       "    <tr>\n",
       "      <th>3</th>\n",
       "      <td>29.424580,-98.494614</td>\n",
       "      <td>City</td>\n",
       "      <td>San Antonio</td>\n",
       "      <td>2487796</td>\n",
       "    </tr>\n",
       "    <tr>\n",
       "      <th>4</th>\n",
       "      <td>36.974018,-122.030952</td>\n",
       "      <td>City</td>\n",
       "      <td>Santa Cruz</td>\n",
       "      <td>2488853</td>\n",
       "    </tr>\n",
       "  </tbody>\n",
       "</table>\n",
       "</div>"
      ],
      "text/plain": [
       "               latt_long location_type          title    woeid\n",
       "0  37.777119, -122.41964          City  San Francisco  2487956\n",
       "1  32.715691,-117.161720          City      San Diego  2487889\n",
       "2  37.338581,-121.885567          City       San Jose  2488042\n",
       "3   29.424580,-98.494614          City    San Antonio  2487796\n",
       "4  36.974018,-122.030952          City     Santa Cruz  2488853"
      ]
     },
     "execution_count": 49,
     "metadata": {},
     "output_type": "execute_result"
    }
   ],
   "source": [
    "import json\n",
    "import pprint\n",
    "\n",
    "# api are different but what is common is they generally spit out response on JSON format which is\n",
    "# same as dictionary so we can use simple function to convert into dataframe\n",
    "r=requests.get('https://www.metaweather.com/api/location/search/?query=san').text\n",
    "\n",
    "# some api needs key and specific fromat before getting data you need to go through all the process\n",
    "rdict=json.loads(r)\n",
    "apidata=pd.DataFrame.from_dict(rdict,orient='columns')\n",
    "apidata.head()"
   ]
  },
  {
   "cell_type": "markdown",
   "metadata": {},
   "source": [
    "### from PDF documents"
   ]
  },
  {
   "cell_type": "code",
   "execution_count": 64,
   "metadata": {
    "collapsed": true
   },
   "outputs": [
    {
     "name": "stdout",
     "output_type": "stream",
     "text": [
      "8\n",
      " Page 3 of 8 €€€€€€€€ €€€€€€€€  11-Mar-2019 11-Mar-2019907014005183 ATM Cash-SACWJ757-NEWVIJAYNAGARJALANDHARPBIN-11/03/19 14:26:21/4464 36052,000.0014,861.67 15-Mar-2019 15-Mar-2019907408816595 PAYTMNoidaIN-15/03/19 14:14:08/4464 3605115.0014,746.67 16-Mar-2019 16-Mar-2019907510095448 PAYTMNOIDAIN-16/03/19 15:40:47/4464 3605190.0014,556.67 17-Mar-2019 17-Mar-2019907608687960 PAYTMNoidaIN-17/03/19 13:43:07/4464 3605195.0014,361.67 17-Mar-2019 17-Mar-2019907614749215 MB-IMPS CREDIT 06700450- 17/03/19 14:00:22 36051.0714,362.74 19-Mar-2019 19-Mar-2019907815014169 ONE97COMMUNICATIONSLNOIDAIN-19/03/19 20:49:36/4464 360550.0014,312.74 20-Mar-2019 20-Mar-2019907906329890 ONE97COMMUNICATIONSLNOIDAIN-20/03/19 12:04:00/4464 360550.0014,262.74 20-Mar-2019 20-Mar-2019907914246053 ONE97COMMUNICATIONSLNOIDAIN-20/03/19 20:25:13/4464 360540.0014,222.74 21-Mar-2019 21-Mar-2019908007065702 PAYTM1204770770IN-21/03/19 13:15:15/4464 360580.0014,142.74 21-Mar-2019 21-Mar-2019908012267901 ONE97COMMUNICATIONSLNOIDAIN-21/03/19 17:59:17/4464 360540.0014,102.74 21-Mar-2019 21-Mar-2019908012268333 ONE97COMMUNICATIONSLNOIDAIN-21/03/19 18:09:49/4464 360520.0014,082.74 22-Mar-2019 22-Mar-2019908114059476 ONE97COMMUNICATIONSLNOIDAIN-22/03/19 20:09:42/4464 360560.0014,022.74 23-Mar-2019 23-Mar-2019908203258836 PAYTMNoidaIN-23/03/19 08:55:57/4464 360515.0014,007.74 23-Mar-2019 23-Mar-2019908207379971 PAYTMNoidaIN-23/03/19 13:01:01/4464 360555.0013,952.74 24-Mar-2019 24-Mar-2019908311078087 ONE97COMMUNICATIONSLNOIDAIN-24/03/19 16:58:07/4464 360560.0013,892.74 24-Mar-2019 24-Mar-2019908317301309 ONE97COMMUNICATIONSLNOIDAIN-24/03/19 22:38:43/4464 360530.0013,862.74 25-Mar-2019 25-Mar-2019908406349532 PAYTMNoidaIN-25/03/19 12:04:39/4464 360580.0013,782.74 25-Mar-2019 25-Mar-2019908415890441 One97CommunicationsLNoidaIN-25/03/19 15:10:17/4464 360555.0013,727.74 26-Mar-2019 26-Mar-2019908506893204 PAYTM1204770770IN-26/03/19 12:03:37/4464 360540.0013,687.74 26-Mar-2019 26-Mar-2019908511952726 PAYTMNOIDAIN-26/03/19 16:59:58/4464 360545.0013,642.74 27-Mar-2019 27-Mar-2019908606101882 ONE97COMMUNICATIONSLNOIDAIN-27/03/19 12:09:48/4464 3605100.0013,542.74 27-Mar-2019 27-Mar-2019908608179358 ONE97COMMUNICATIONSLNOIDAIN-27/03/19 14:01:03/4464 360515.0013,527.74 27-Mar-2019 27-Mar-2019908610240140 ONE97COMMUNICATIONSLNOIDAIN-27/03/19 16:09:28/4464 360530.0013,497.74 27-Mar-2019 27-Mar-2019908614592846 PAYTMNoidaIN-27/03/19 20:22:00/4464 360550.0013,447.74 27-Mar-2019 27-Mar-2019908614052187 ONE97COMMUNICATIONSLNOIDAIN-27/03/19 20:26:13/4464 360590.0013,357.74 28-Mar-2019 27-Mar-2019 SMS ALERT CHARGES NEW 360518.0013,339.74 28-Mar-2019 28-Mar-2019908704576 PAYTMNOIDAIN-28/03/19 10:29:41/4464 360540.0013,299.74\n"
     ]
    }
   ],
   "source": [
    "import PyPDF2 as pdf\n",
    "\n",
    "#open up like a file \n",
    "pdoc=open('bank.pdf','rb')\n",
    "\n",
    "# that PdfFileReader  method for converting that opened file into some supported format\n",
    "pdfreader=pdf.PdfFileReader(pdoc)\n",
    "\n",
    "# get num of pages to caution out before passing the page it doesn't exist at all\n",
    "print(pdfreader.getNumPages())\n",
    "\n",
    "\n",
    "page=pdfreader.getPage(2)\n",
    "\n",
    "pdfdata=page.extractText()\n",
    "# IDK from here onwards how to convert that string into dataframe. You can go do some string operations.\n",
    "print(pdfdata)\n",
    "pdoc.close()"
   ]
  }
 ],
 "metadata": {
  "anaconda-cloud": {},
  "kernelspec": {
   "display_name": "Python [conda root]",
   "language": "python",
   "name": "conda-root-py"
  },
  "language_info": {
   "codemirror_mode": {
    "name": "ipython",
    "version": 3
   },
   "file_extension": ".py",
   "mimetype": "text/x-python",
   "name": "python",
   "nbconvert_exporter": "python",
   "pygments_lexer": "ipython3",
   "version": "3.5.2"
  }
 },
 "nbformat": 4,
 "nbformat_minor": 1
}
